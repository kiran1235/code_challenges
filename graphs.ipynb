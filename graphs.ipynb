{
 "cells": [
  {
   "cell_type": "markdown",
   "metadata": {},
   "source": [
    "# Graphs\n",
    "> A Graph is a non-linear data structure consisting of nodes and edges. The nodes are sometimes also referred to as vertices and the edges are lines or arcs that connect any two nodes in the graph\n",
    "\n",
    "Graphs are used to solve many real-life problems. Graphs are used to represent networks. The networks may include paths in a city or telephone network or circuit network. Graphs are also used in social networks like linkedIn, Facebook. For example, in Facebook, each person is represented with a vertex(or node). Each node is a structure and contains information like person id, name, gender, locale etc.\n",
    "\n",
    "more details - [www.geeksforgeeks.com](https://www.geeksforgeeks.org/graph-data-structure-and-algorithms/)\n",
    "\n"
   ]
  },
  {
   "cell_type": "markdown",
   "metadata": {},
   "source": [
    "Following two are the most commonly used representations of a graph.\n",
    "1. Adjacency Matrix\n",
    "2. Adjacency List\n",
    "\n",
    "[read more](https://www.geeksforgeeks.org/graph-and-its-representations/)\n"
   ]
  },
  {
   "cell_type": "code",
   "execution_count": 19,
   "metadata": {},
   "outputs": [
    {
     "name": "stdout",
     "output_type": "stream",
     "text": [
      "{'a': 0, 'b': 1, 'c': 2}\n",
      "[0, 1, 0]\n",
      "[0, 0, 2]\n",
      "[0, 0, 0]\n"
     ]
    }
   ],
   "source": [
    "# Graph respresentation using Adjacency Matrix\n",
    "\n",
    "class Graph:\n",
    "    def __init__(self,no_of_vertices):\n",
    "        # this step defines 2d array and initalize to 0 \n",
    "        self.adjacentMatrix=[[0 for col in range(no_of_vertices)] for row in range(no_of_vertices)] \n",
    "        self.vertices={}\n",
    "    def add_vertex(self,value):\n",
    "        if self.vertices.get(value,None) == None:\n",
    "            self.vertices[value]=len(self.vertices)\n",
    "            return self.vertices[value]\n",
    "        else:\n",
    "            raise Exception('An vertex is already exists with given value {}'.format(value))\n",
    "    def set_edge(self,fromVertex,toVertex,cost):\n",
    "        if self.vertices.get(fromVertex,None) == None:\n",
    "            raise Exception('{} vertex does not exists'.format(fromVertex))\n",
    "        \n",
    "        if self.vertices.get(toVertex,None) == None:\n",
    "            raise Exception('{} vertex does not exists'.format(toVertex))\n",
    "        \n",
    "        fromVertexIndex=self.vertices.get(fromVertex)\n",
    "        toVertexIndex=self.vertices.get(toVertex)\n",
    "        self.adjacentMatrix[fromVertexIndex][toVertexIndex] = cost\n",
    "\n",
    "    def print(self):\n",
    "        print(self.vertices)\n",
    "        for row in self.adjacentMatrix:\n",
    "            print(row)\n",
    "                \n",
    "\n",
    "graph1=Graph(3)\n",
    "graph1.add_vertex('a')\n",
    "graph1.add_vertex('b')\n",
    "graph1.add_vertex('c')\n",
    "\n",
    "graph1.set_edge('a','b',1)\n",
    "graph1.set_edge('b','c',2)\n",
    "\n",
    "graph1.print()"
   ]
  },
  {
   "cell_type": "code",
   "execution_count": 19,
   "metadata": {},
   "outputs": [
    {
     "name": "stdout",
     "output_type": "stream",
     "text": [
      "Adjacency List of vertex 0\n",
      "0 -> 2 -> 1\n",
      "\n",
      "Adjacency List of vertex 1\n",
      "1 -> 2 -> 0\n",
      "\n",
      "Adjacency List of vertex 2\n",
      "2 -> 3 -> 1 -> 0\n",
      "\n",
      "Adjacency List of vertex 3\n",
      "3 -> 3 -> 3 -> 2\n",
      "\n"
     ]
    }
   ],
   "source": [
    "# Graph Implementation using Adjacency List\n",
    "\"\"\"\n",
    "a(0)->b(20)->c(10)\n",
    "b(15)->c(5)\n",
    "\"\"\"\n",
    "\n",
    "class AdjNode:\n",
    "    def __init__(self,vertex):\n",
    "        self.vertex=vertex\n",
    "        self.next = None\n",
    "\n",
    "class Graph:\n",
    "    def __init__(self,no_of_vertices):\n",
    "        self.no_of_vertices = no_of_vertices\n",
    "        self.vertices={}\n",
    "        self.adjacentList=[None] * no_of_vertices\n",
    "\n",
    "    def add_vertex(self,vertex):\n",
    "        if self.vertices.get(vertex,None) == None:\n",
    "            self.vertices[vertex]=len(self.vertices)\n",
    "        else:\n",
    "            raise Exception('Given vertex is already exists')\n",
    "    \n",
    "    def add_edge(self,fromVertex,toVertex,cost):\n",
    "        if self.vertices.get(fromVertex,None) == None:\n",
    "            raise Exception('Given vertex {} does not already exists'.format(fromVertex))\n",
    "        if self.vertices.get(toVertex,None) == None:\n",
    "            raise Exception('Given vertex {} does not already exists'.format(toVertex))\n",
    "        \n",
    "        # set destination to source as undirected\n",
    "        node=AdjNode(toVertex)\n",
    "        node.next = self.adjacentList[self.vertices.get(fromVertex)]\n",
    "        self.adjacentList[self.vertices.get(fromVertex)] = node\n",
    "        \n",
    "        # set source to destination as undirected\n",
    "        node=AdjNode(fromVertex)\n",
    "        node.next = self.adjacentList[self.vertices.get(toVertex)]\n",
    "        self.adjacentList[self.vertices.get(toVertex)] = node\n",
    "        \n",
    "    \n",
    "    def print(self):\n",
    "        for v in self.vertices:\n",
    "            print(\"Adjacency List of vertex {}\".format(v))\n",
    "            node=self.adjacentList[self.vertices.get(v)]\n",
    "            if node is not None:\n",
    "                print(\"{}\".format(v), end=\"\") \n",
    "                while node:\n",
    "                    print(\" -> {}\".format(node.vertex), end=\"\") \n",
    "                    node = node.next\n",
    "                print(\"\\n\")\n",
    "            else:\n",
    "                print(\"no list found\")\n",
    "\n",
    "graph=Graph(5)\n",
    "graph.add_vertex('0')\n",
    "graph.add_vertex('1')\n",
    "graph.add_vertex('2')\n",
    "graph.add_vertex('3')\n",
    "#graph.add_vertex('4')\n",
    "graph.add_edge('0','1',10)\n",
    "graph.add_edge('0','2',10)\n",
    "graph.add_edge('1','2',10)\n",
    "graph.add_edge('2','3',10)\n",
    "graph.add_edge('3','3',10)\n",
    "graph.print()\n"
   ]
  },
  {
   "cell_type": "markdown",
   "metadata": {},
   "source": [
    "# Graph Traversal\n",
    "* DFS - Depth first search\n",
    "* BFS - Breadth first search\n",
    "\n",
    "Breadth first search (BFS) of an graph is similar to BFS traversal of an tree. Unlike trees, graphs can have circular reference between parent and child nodes or same node. Hence, to avoid visiting same node again we keep visited flag on every node using boolean array."
   ]
  },
  {
   "cell_type": "code",
   "execution_count": 20,
   "metadata": {},
   "outputs": [
    {
     "name": "stdout",
     "output_type": "stream",
     "text": [
      "2 -> 3 -> 1 -> 0 -> Done\n"
     ]
    }
   ],
   "source": [
    "from queue import Queue\n",
    "def BFS(graph,vertex):\n",
    "    visited = [False] * graph.no_of_vertices\n",
    "    q = Queue()\n",
    "    q.put(vertex)\n",
    "    visited[graph.vertices.get(vertex)] = True\n",
    "    while not q.empty():\n",
    "        current = q.get()\n",
    "        ind = graph.vertices.get(current)\n",
    "        print(\"{} -> \".format(graph.vertices.get(current)),end=\"\")\n",
    "        temp = graph.adjacentList[ind]\n",
    "        while temp:\n",
    "            tind = graph.vertices.get(temp.vertex)\n",
    "            if visited[tind] == False:\n",
    "                q.put(temp.vertex)\n",
    "                visited[tind] = True\n",
    "            temp = temp.next\n",
    "    print(\"Done\")\n",
    "BFS(graph,'2')"
   ]
  },
  {
   "cell_type": "code",
   "execution_count": 29,
   "metadata": {},
   "outputs": [
    {
     "name": "stdout",
     "output_type": "stream",
     "text": [
      "0 -> 2 -> 3 -> 1 -> Done\n"
     ]
    }
   ],
   "source": [
    "visited = [False] * graph.no_of_vertices\n",
    "\n",
    "def DFS(vertex):\n",
    "    print(\"{} -> \".format(graph.vertices.get(vertex)),end=\"\")\n",
    "    visited[graph.vertices.get(vertex)] = True \n",
    "    temp = graph.adjacentList[graph.vertices.get(vertex)] \n",
    "    while temp:\n",
    "        tind = graph.vertices.get(temp.vertex)\n",
    "        if visited[tind] == False:\n",
    "            DFS(temp.vertex)\n",
    "        temp = temp.next\n",
    "                  \n",
    "DFS('0')\n",
    "print(\"Done\")"
   ]
  },
  {
   "cell_type": "code",
   "execution_count": null,
   "metadata": {},
   "outputs": [],
   "source": []
  }
 ],
 "metadata": {
  "kernelspec": {
   "display_name": "Python 3.6",
   "language": "python",
   "name": "python3"
  },
  "language_info": {
   "codemirror_mode": {
    "name": "ipython",
    "version": 3
   },
   "file_extension": ".py",
   "mimetype": "text/x-python",
   "name": "python",
   "nbconvert_exporter": "python",
   "pygments_lexer": "ipython3",
   "version": "3.6.7"
  }
 },
 "nbformat": 4,
 "nbformat_minor": 2
}
