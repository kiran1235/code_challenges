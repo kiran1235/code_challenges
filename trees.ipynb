{
 "cells": [
  {
   "cell_type": "markdown",
   "metadata": {},
   "source": [
    "# Tree \n",
    "Tree is a collection of entities called node connected by edges. Each node contains a value and may connected with another node.\n",
    "### Tree Elements\n",
    "* **Root:** the topmost node of the tree\n",
    "* **Edge:** the link between 2 nodes\n",
    "* **Child:** a node that has a parent node\n",
    "* **Parent:** a node that has an edge to a child node\n",
    "* **Leaf:** a node that does not have a child node in the tree\n",
    "* **Height:** The height of a tree is the length of the longest path to a leaf.\n",
    "* **Depth:** The depth of a node is the length of the path to its root."
   ]
  },
  {
   "cell_type": "markdown",
   "metadata": {},
   "source": [
    "# Binary Trees\n",
    "A binary tree is a tree data structure in which each node has at most two children, which are referred to as the left child and the right child"
   ]
  },
  {
   "cell_type": "code",
   "execution_count": 50,
   "metadata": {},
   "outputs": [],
   "source": [
    "class BinaryTree:\n",
    "    def __init__(self,value):\n",
    "        self._value=value\n",
    "        self._left=None\n",
    "        self._right=None\n",
    "        \n",
    "    @property\n",
    "    def value(self):\n",
    "        return self._value\n",
    "    @value.setter\n",
    "    def value(self,value):\n",
    "        self._value = value\n",
    "    \n",
    "    @property\n",
    "    def left(self):\n",
    "        return self._left\n",
    "    @left.setter\n",
    "    def left(self,value):\n",
    "        self._left = BinaryTree(value)\n",
    "\n",
    "    @property\n",
    "    def right(self):\n",
    "        return self._right\n",
    "    @right.setter\n",
    "    def right(self,value):\n",
    "        self._right = BinaryTree(value)\n",
    "\n",
    "btree = BinaryTree(0)\n",
    "btree.left = 1\n",
    "btree.right = 2\n",
    "btree.left.left=3\n",
    "btree.left.right=4\n",
    "#print(btree.value,btree.left.value,btree.right.value)"
   ]
  },
  {
   "cell_type": "markdown",
   "metadata": {},
   "source": [
    "# Tree traversal\n",
    "\n",
    "## DFS: Depth-First Search \n",
    "> \"is an algorithm for traversing or searching tree data structure. One starts at the root and explores as far as possible along each branch before backtracking.\"— Wikipedia\n",
    "\n",
    "DFS can be in 3 types \n",
    "* Pre-Order\n",
    " 1. Visit node\n",
    " 1. if node has left child then repeat step 1\n",
    " 1. if node has right child then repeat step 1\n",
    "\n",
    "\n",
    "* In-Order \n",
    " 1. if node has left child then repeat step 1\n",
    " 1. Visit node \n",
    " 1. if node has right child then repeat step 1\n",
    "\n",
    "\n",
    "* Post-Order\n",
    " 1. if node has left child then repeat step 1\n",
    " 1. if node has right child then repeat step 1\n",
    " 1. Visit node \n"
   ]
  },
  {
   "cell_type": "code",
   "execution_count": 47,
   "metadata": {},
   "outputs": [
    {
     "name": "stdout",
     "output_type": "stream",
     "text": [
      "-- pre order --\n",
      "0\n",
      "1\n",
      "3\n",
      "2\n",
      "-- in order --\n",
      "3\n",
      "1\n",
      "0\n",
      "2\n",
      "-- post order --\n",
      "3\n",
      "1\n",
      "2\n",
      "0\n",
      "-- in order --\n",
      "3\n",
      "1\n",
      "0\n",
      "2\n",
      "-- pre order --\n",
      "0\n",
      "1\n",
      "3\n",
      "2\n"
     ]
    }
   ],
   "source": [
    "class DFS:\n",
    "    def __init__(self,binarytree):\n",
    "        self.binarytree = binarytree\n",
    "    \n",
    "    def preorder(self,node=None):\n",
    "        if node==None:\n",
    "            node=self.binarytree\n",
    "        \n",
    "        print(node.value)\n",
    "        if node.left is not None:\n",
    "            self.preorder(node.left)\n",
    "            \n",
    "        if node.right is not None:\n",
    "            self.preorder(node.right)\n",
    "\n",
    "    def inorder(self,node=None):\n",
    "        if node==None:\n",
    "            node=self.binarytree\n",
    "        \n",
    "        if node.left is not None:\n",
    "            self.inorder(node.left)\n",
    "        \n",
    "        print(node.value)\n",
    "\n",
    "        if node.right is not None:\n",
    "            self.inorder(node.right)\n",
    "\n",
    "    def postorder(self,node=None):\n",
    "        if node==None:\n",
    "            node=self.binarytree\n",
    "        \n",
    "        if node.left is not None:\n",
    "            self.postorder(node.left)\n",
    "        \n",
    "        if node.right is not None:\n",
    "            self.postorder(node.right)\n",
    "        \n",
    "        print(node.value)\n",
    "        \n",
    "    def print(self):\n",
    "        stack=[]\n",
    "        node = self.binarytree\n",
    "        while True:\n",
    "            if node is not None:\n",
    "                stack.append(node)\n",
    "                node = node.left\n",
    "            elif len(stack) > 0:\n",
    "                node = stack.pop()\n",
    "                print(node.value)\n",
    "                node = node.right\n",
    "            elif len(stack) <= 0:\n",
    "                break\n",
    "\n",
    "    def asis(self):\n",
    "        stack=[]\n",
    "        node = self.binarytree\n",
    "        while True:\n",
    "            if node is not None:\n",
    "                print(node.value)\n",
    "                stack.append(node)\n",
    "                node = node.left\n",
    "            elif len(stack) > 0:\n",
    "                node = stack.pop()\n",
    "                node = node.right\n",
    "            elif len(stack) <= 0:\n",
    "                break\n",
    "dfs=DFS(btree)\n",
    "print(\"-- pre order --\")\n",
    "dfs.preorder()\n",
    "print(\"-- in order --\")\n",
    "dfs.inorder()\n",
    "print(\"-- post order --\")\n",
    "dfs.postorder()\n",
    "print(\"-- in order --\")\n",
    "dfs.print()\n",
    "print(\"-- pre order --\")\n",
    "dfs.asis()"
   ]
  },
  {
   "cell_type": "markdown",
   "metadata": {},
   "source": [
    "## BFS: Breadth-First Search\n",
    "> \"is an algorithm for traversing or searching tree data structure. It starts at the tree root and explores the neighbor nodes first, before moving to the next level neighbours.\"— Wikipedia\n"
   ]
  },
  {
   "cell_type": "code",
   "execution_count": 12,
   "metadata": {},
   "outputs": [
    {
     "name": "stdout",
     "output_type": "stream",
     "text": [
      "0\n",
      "1\n",
      "2\n"
     ]
    }
   ],
   "source": [
    "from queue import Queue\n",
    "class BFS:\n",
    "    def __init__(self,tree):\n",
    "        self.tree=tree\n",
    "    def traverse(self):\n",
    "        q = Queue()\n",
    "        q.put(self.tree)\n",
    "        while not q.empty():\n",
    "            node = q.get()\n",
    "            print(node.value)\n",
    "            if node.left is not None:\n",
    "                q.put(node.left)\n",
    "            if node.right is not None:\n",
    "                q.put(node.right)\n",
    "\n",
    "bfs = BFS(btree)\n",
    "bfs.traverse()"
   ]
  },
  {
   "cell_type": "markdown",
   "metadata": {},
   "source": [
    "# Binary Search Tree [Wiki](https://en.wikipedia.org/wiki/Binary_search_tree)\n"
   ]
  },
  {
   "cell_type": "code",
   "execution_count": 51,
   "metadata": {},
   "outputs": [
    {
     "name": "stdout",
     "output_type": "stream",
     "text": [
      "1\n",
      "5\n",
      "6\n",
      "9\n",
      "10\n"
     ]
    }
   ],
   "source": [
    "class Node:\n",
    "    def __init__(self,value):\n",
    "        self.value=value\n",
    "        self.left=None\n",
    "        self.right=None\n",
    "\n",
    "class BST:\n",
    "    def __init__(self):\n",
    "        self.root=None\n",
    "    \n",
    "    def print(self):\n",
    "        stack=[]\n",
    "        node = self.root\n",
    "        while True:\n",
    "            if node is not None:\n",
    "                stack.append(node)\n",
    "                node = node.left\n",
    "            elif len(stack) > 0:\n",
    "                node = stack.pop()\n",
    "                print(node.value)\n",
    "                node = node.right\n",
    "            else:\n",
    "                break\n",
    "                \n",
    "    def insert(self,value):\n",
    "        if self.root == None:\n",
    "            self.root=Node(value)\n",
    "        else:\n",
    "            stack=[]\n",
    "            stack.append(self.root)\n",
    "            while len(stack) > 0:\n",
    "                node = stack.pop()\n",
    "                if node.value < value: # node value is smaller than the given value move righthand\n",
    "                    if node.right is None:\n",
    "                        node.right = Node(value)\n",
    "                        return\n",
    "                    else:\n",
    "                        stack.append(node.right)\n",
    "                else:\n",
    "                    if node.left is None:\n",
    "                        node.left = Node(value)\n",
    "                        return\n",
    "                    else:\n",
    "                        stack.append(node.left)\n",
    "\n",
    "arr=[10,5,6,9,1]\n",
    "bst=BST()\n",
    "for a in arr:\n",
    "    bst.insert(a)\n",
    "bst.print()\n"
   ]
  },
  {
   "cell_type": "markdown",
   "metadata": {},
   "source": [
    "## More tree terminology:\n",
    "\n",
    "* The depth of a node is the number of edges from the root to the node.\n",
    "* The height of a node is the number of edges from the node to the deepest leaf.\n",
    "* The height of a tree is a height of the root.\n",
    "* A full binary tree in which each node has exactly zero or two children.\n",
    "* A complete binary tree, which is completely filled, with the possible exception of the bottom level, which is filled from left to right.\n"
   ]
  },
  {
   "cell_type": "markdown",
   "metadata": {},
   "source": [
    "# Program to Find the Maximum Depth or Height of a Tree"
   ]
  },
  {
   "cell_type": "code",
   "execution_count": 52,
   "metadata": {},
   "outputs": [
    {
     "name": "stdout",
     "output_type": "stream",
     "text": [
      "3\n"
     ]
    }
   ],
   "source": [
    "def height(node):\n",
    "    if node is None:\n",
    "        return 0\n",
    "    else:\n",
    "        L = 0\n",
    "        R = 0\n",
    "        if node.left is not None:\n",
    "            L=height(node.left)\n",
    "        if node.right is not None:\n",
    "            R=height(node.right)\n",
    "    \n",
    "        if L > R:\n",
    "            return L+1\n",
    "        else:\n",
    "            return R+1\n",
    "\n",
    "print(height(btree))"
   ]
  },
  {
   "cell_type": "markdown",
   "metadata": {},
   "source": [
    "# Program to find tree is an Full Binary Tree"
   ]
  },
  {
   "cell_type": "code",
   "execution_count": 53,
   "metadata": {},
   "outputs": [
    {
     "name": "stdout",
     "output_type": "stream",
     "text": [
      "True\n"
     ]
    }
   ],
   "source": [
    "def check(root):\n",
    "    stack = []\n",
    "    node = root\n",
    "    while True:\n",
    "        if node is not None:\n",
    "            if node.left is not None and node.right is None:\n",
    "                return False\n",
    "            elif node.right is not None and node.left is None:\n",
    "                return False\n",
    "            stack.append(node)\n",
    "            node = node.left\n",
    "            \n",
    "        elif len(stack) > 0:\n",
    "            node = stack.pop()\n",
    "            node = node.right\n",
    "        else:\n",
    "            break\n",
    "    return True\n",
    "print(check(btree)==True)"
   ]
  },
  {
   "cell_type": "markdown",
   "metadata": {},
   "source": [
    "# Program to print level order tree"
   ]
  },
  {
   "cell_type": "code",
   "execution_count": 55,
   "metadata": {},
   "outputs": [
    {
     "name": "stdout",
     "output_type": "stream",
     "text": [
      "0\n",
      "1\n",
      "2\n",
      "3\n",
      "4\n"
     ]
    }
   ],
   "source": [
    "from queue import Queue \n",
    "def LPrint(root):\n",
    "    q = Queue()\n",
    "    q.put(root)\n",
    "    while not q.empty():\n",
    "        node = q.get()\n",
    "        print(node.value)\n",
    "        if node.left: \n",
    "            q.put(node.left)\n",
    "        if node.right:\n",
    "            q.put(node.right)\n",
    "LPrint(btree)"
   ]
  },
  {
   "cell_type": "code",
   "execution_count": null,
   "metadata": {},
   "outputs": [],
   "source": []
  }
 ],
 "metadata": {
  "kernelspec": {
   "display_name": "Python 3.6",
   "language": "python",
   "name": "python3"
  },
  "language_info": {
   "codemirror_mode": {
    "name": "ipython",
    "version": 3
   },
   "file_extension": ".py",
   "mimetype": "text/x-python",
   "name": "python",
   "nbconvert_exporter": "python",
   "pygments_lexer": "ipython3",
   "version": "3.6.7"
  }
 },
 "nbformat": 4,
 "nbformat_minor": 2
}
