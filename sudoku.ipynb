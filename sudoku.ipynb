{
 "cells": [
  {
   "cell_type": "code",
   "execution_count": null,
   "metadata": {},
   "outputs": [],
   "source": [
    "# python 3.6\n",
    "# solve sodoku puzzles using backtacking algorithm\n",
    "# sodoku \n",
    "# every row, column and 3x3 box will have values between 1 to 9\n",
    "# sum of values in every row matches with every column\n",
    "'''\n",
    "puzzle = [[5, 3, 0, 0, 7, 0, 0, 0, 0],\n",
    "          [6, 0, 0, 1, 9, 5, 0, 0, 0],\n",
    "          [0, 9, 8, 0, 0, 0, 0, 6, 0],\n",
    "          [8, 0, 0, 0, 6, 0, 0, 0, 3],\n",
    "          [4, 0, 0, 8, 0, 3, 0, 0, 1],\n",
    "          [7, 0, 0, 0, 2, 0, 0, 0, 6],\n",
    "          [0, 6, 0, 0, 0, 0, 2, 8, 0],\n",
    "          [0, 0, 0, 4, 1, 9, 0, 0, 5],\n",
    "          [0, 0, 0, 0, 8, 0, 0, 7, 9]]\n",
    "\n",
    "solution = [[5, 3, 4, 6, 7, 8, 9, 1, 2],\n",
    "            [6, 7, 2, 1, 9, 5, 3, 4, 8],\n",
    "            [1, 9, 8, 3, 4, 2, 5, 6, 7],\n",
    "            [8, 5, 9, 7, 6, 1, 4, 2, 3],\n",
    "            [4, 2, 6, 8, 5, 3, 7, 9, 1],\n",
    "            [7, 1, 3, 9, 2, 4, 8, 5, 6],\n",
    "            [9, 6, 1, 5, 3, 7, 2, 8, 4],\n",
    "            [2, 8, 7, 4, 1, 9, 6, 3, 5],\n",
    "            [3, 4, 5, 2, 8, 6, 1, 7, 9]]\n",
    "'''\n",
    "\n",
    "class Cell:\n",
    "    def __init__(self,row,col,value):\n",
    "        \n",
    "class Soduku:\n",
    "    def __init__(self,puzzle):\n",
    "        self.puzzle=puzzle"
   ]
  }
 ],
 "metadata": {
  "kernelspec": {
   "display_name": "Python 3.6",
   "language": "python",
   "name": "python3"
  },
  "language_info": {
   "codemirror_mode": {
    "name": "ipython",
    "version": 3
   },
   "file_extension": ".py",
   "mimetype": "text/x-python",
   "name": "python",
   "nbconvert_exporter": "python",
   "pygments_lexer": "ipython3",
   "version": "3.6.7"
  }
 },
 "nbformat": 4,
 "nbformat_minor": 2
}
