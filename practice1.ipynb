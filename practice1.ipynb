{
 "cells": [
  {
   "cell_type": "markdown",
   "metadata": {},
   "source": [
    "# Graph \n",
    ">A Graph is a non-linear data structure consisting of nodes and edges. The nodes are sometimes also referred to as vertices and the edges are lines or arcs that connect any two nodes in the graph"
   ]
  },
  {
   "cell_type": "markdown",
   "metadata": {},
   "source": [
    "```\n",
    "0 --- 1 --- 2\n",
    "      |     | \n",
    "      |     |\n",
    "6 --- 3 --- 4 -- 5\n",
    "```"
   ]
  },
  {
   "cell_type": "markdown",
   "metadata": {},
   "source": [
    "# simulate graph using adjacent list"
   ]
  },
  {
   "cell_type": "code",
   "execution_count": 78,
   "metadata": {},
   "outputs": [],
   "source": [
    "class Graph:\n",
    "    def __init__(self,vertices):\n",
    "        self.Vertices = vertices\n",
    "        self.adjacentList = [ None ] * vertices\n",
    "        \n",
    "    def addEdge(self,F,T):\n",
    "        if self.adjacentList[F] == None:\n",
    "            self.adjacentList[F] = []\n",
    "        if self.adjacentList[T] == None:\n",
    "            self.adjacentList[T] = []\n",
    "        \n",
    "        self.adjacentList[F].append(T)\n",
    "        #self.adjacentList[T].append(F)\n",
    "    \n",
    "    def getNeighbours(self,node):\n",
    "        return self.adjacentList[node]\n",
    "            \n",
    "    def print(self):\n",
    "        print(\"vertices:\",[i for i in range(self.Vertices)])\n",
    "        \n",
    "        print(\"\\n-- Neighbours --\\n\")\n",
    "        \n",
    "        for i in range(self.Vertices):\n",
    "            print(i,\"-> \",end=\"\")\n",
    "            for n in self.getNeighbours(i):\n",
    "                print(n,\" \",end=\"\")\n",
    "            print(\"\\n\")"
   ]
  },
  {
   "cell_type": "code",
   "execution_count": 79,
   "metadata": {},
   "outputs": [
    {
     "name": "stdout",
     "output_type": "stream",
     "text": [
      "vertices: [0, 1, 2, 3, 4, 5, 6]\n",
      "\n",
      "-- Neighbours --\n",
      "\n",
      "0 -> 1  \n",
      "\n",
      "1 -> 2  3  \n",
      "\n",
      "2 -> \n",
      "\n",
      "3 -> 4  6  \n",
      "\n",
      "4 -> 5  \n",
      "\n",
      "5 -> \n",
      "\n",
      "6 -> \n",
      "\n"
     ]
    }
   ],
   "source": [
    "graph = Graph(7)\n",
    "graph.addEdge(0,1)\n",
    "graph.addEdge(1,2)\n",
    "graph.addEdge(1,3)\n",
    "#graph.addEdge(2,4)\n",
    "graph.addEdge(3,4)\n",
    "graph.addEdge(3,6)\n",
    "graph.addEdge(4,5)\n",
    "graph.print()"
   ]
  },
  {
   "cell_type": "markdown",
   "metadata": {},
   "source": [
    "# Traverse given graph using DFS"
   ]
  },
  {
   "cell_type": "code",
   "execution_count": 38,
   "metadata": {},
   "outputs": [
    {
     "name": "stdout",
     "output_type": "stream",
     "text": [
      "0  1  2  4  3  6  5  "
     ]
    }
   ],
   "source": [
    "def DFS(graph,node,visited=[False] * graph.Vertices):\n",
    "    if visited[node] == False:\n",
    "        print(node,\" \",end=\"\")\n",
    "        visited[node] = True\n",
    "        for neighbour in graph.getNeighbours(node):\n",
    "            if visited[neighbour] == False:\n",
    "                DFS(graph,neighbour,visited)\n",
    "    \n",
    "visited = [False] * graph.Vertices\n",
    "DFS(graph,0)\n"
   ]
  },
  {
   "cell_type": "markdown",
   "metadata": {},
   "source": [
    "# Traverse given graph using BFS"
   ]
  },
  {
   "cell_type": "code",
   "execution_count": 39,
   "metadata": {},
   "outputs": [
    {
     "name": "stdout",
     "output_type": "stream",
     "text": [
      "0  1  2  3  4  6  5  "
     ]
    }
   ],
   "source": [
    "from queue import Queue\n",
    "def BFS(graph,node,visited=[False] * graph.Vertices):\n",
    "    q = Queue()\n",
    "    q.put(node)\n",
    "    visited[node] = True\n",
    "    while not q.empty():\n",
    "        current = q.get()\n",
    "        print(current,\" \",end=\"\")\n",
    "        for neighbour in graph.getNeighbours(current):\n",
    "            if visited[neighbour] == False:\n",
    "                q.put(neighbour)\n",
    "                visited[neighbour] = True\n",
    "\n",
    "BFS(graph,0)"
   ]
  },
  {
   "cell_type": "markdown",
   "metadata": {},
   "source": [
    "# Identify if graph is cyclic\n",
    "#### using union - find method \n",
    "\n",
    "**subset**\n",
    "1. define parent\n",
    "1. define rank = 0\n",
    "\n",
    "this method is to store parent/root of an vertex using path comperssion method\n",
    "\n",
    "**find**\n",
    "1. if subset[u].parent == node then return subset[u].parent else call find(subset[u].parent)\n",
    "\n",
    "this method is to update rank of an vertex\n",
    "\n",
    "**union**\n",
    "1. if subset[u].rank > subset[v].rank then subset[v].parent = u\n",
    "1. else if subset[v].rank > subset[u].rank then subset[u].parent = v\n",
    "1. else subset[v].parent = u, subset[u].rank++\n",
    "\n",
    "\n",
    "**cycle**\n",
    "\n",
    "1. allocate subset array of size equals to no. of vertices\n",
    "1. initialize parent as vertex for all elements in subset\n",
    "1. for each vertex in graph\n",
    "1.    u = find(u)\n",
    "1.    for each edge for this vertex\n",
    "1.        v = find(v)\n",
    "1.        if u == v: -- vertex root and edge root are same\n",
    "1.           return \"cycle found\"\n",
    "1.        else:\n",
    "1.           union(u,v)"
   ]
  },
  {
   "cell_type": "code",
   "execution_count": 88,
   "metadata": {},
   "outputs": [
    {
     "name": "stdout",
     "output_type": "stream",
     "text": [
      "Cycle Found\n"
     ]
    }
   ],
   "source": [
    "def findRoot(subsets,vertex):\n",
    "    if subsets[vertex]['parent'] != vertex:\n",
    "        subsets[vertex]['parent'] = findRoot(subsets,subsets[vertex]['parent'])\n",
    "    return subsets[vertex]['parent']\n",
    "\n",
    "def union(subsets,u,v):\n",
    "    if subsets[u]['rank'] > subsets[v]['rank']:\n",
    "        subsets[v]['parent'] = u\n",
    "    elif subsets[v]['rank'] > subsets[u]['rank']:\n",
    "        subsets[u]['parent'] = v\n",
    "    else:\n",
    "        subsets[v]['parent'] = u\n",
    "        subsets[u]['rank'] = subsets[u]['rank'] + 1\n",
    "        \n",
    "def findCycle(graph):\n",
    "    subsets = [{'parent': v,'rank':0} for v in range(0,graph.Vertices)]\n",
    "    for vertex in range(0,graph.Vertices):\n",
    "        vertex_root = findRoot(subsets,vertex)\n",
    "        for edge in graph.getNeighbours(vertex):\n",
    "            edge_root = findRoot(subsets,edge)\n",
    "            if vertex_root == edge_root:\n",
    "                return True\n",
    "            else:\n",
    "                union(subsets,vertex_root,edge_root)\n",
    "                \n",
    "\n",
    "graph = Graph(7)\n",
    "graph.addEdge(0,1)\n",
    "graph.addEdge(1,2)\n",
    "graph.addEdge(1,3)\n",
    "graph.addEdge(2,4) # remove this edge\n",
    "graph.addEdge(3,4)\n",
    "graph.addEdge(3,6)\n",
    "graph.addEdge(4,5)\n",
    "\n",
    "\n",
    "if findCycle(graph):\n",
    "    print(\"Cycle Found\")\n",
    "else:\n",
    "    print(\"Cycle Not Found\")"
   ]
  },
  {
   "cell_type": "markdown",
   "metadata": {},
   "source": [
    "```\n",
    "0 --- 1 --- 2\n",
    "      |     | \n",
    "      |     |\n",
    "6 --- 3 --- 4 -- 5\n",
    "```"
   ]
  },
  {
   "cell_type": "markdown",
   "metadata": {},
   "source": [
    "# Implement Weighted graph using adjaceney List"
   ]
  },
  {
   "cell_type": "code",
   "execution_count": 93,
   "metadata": {
    "slideshow": {
     "slide_type": "skip"
    }
   },
   "outputs": [],
   "source": [
    "class Graph:\n",
    "    def __init__(self,vertices):\n",
    "        self.Vertices = vertices\n",
    "        self.adjacentList = [ None ] * vertices\n",
    "        \n",
    "    def addEdge(self,F,T,W):\n",
    "        if self.adjacentList[F] == None:\n",
    "            self.adjacentList[F] = []\n",
    "        if self.adjacentList[T] == None:\n",
    "            self.adjacentList[T] = []\n",
    "        \n",
    "        self.adjacentList[F].append({'vertex': T,'weight':W})\n",
    "    \n",
    "    def getNeighbours(self,node):\n",
    "        return self.adjacentList[node]\n",
    "            \n",
    "    def print(self):\n",
    "        print(\"vertices:\",[i for i in range(self.Vertices)])\n",
    "        \n",
    "        print(\"\\n-- Neighbours --\\n\")\n",
    "        \n",
    "        for i in range(self.Vertices):\n",
    "            print(i,\"-> \",end=\"\")\n",
    "            for n in self.getNeighbours(i):\n",
    "                print(n['vertex'],\" \",end=\"\")\n",
    "            print(\"\\n\")"
   ]
  },
  {
   "cell_type": "markdown",
   "metadata": {},
   "source": [
    "# Get Minimum spanning tree\n",
    "\n",
    "##### Kruskals\n",
    "In Kruskals, no of edges in output graph equal to input graph vertex - 1 \n",
    "\n",
    "**findRoot**\n",
    "\n",
    "1. if subsets[vertex].parent != vertex\n",
    "1.    subsets[vertex].parent = findRoot(subsets,subsets[vertex].parent)\n",
    "1. return subsets[vertex].parent\n",
    "\n",
    "**union**\n",
    "\n",
    "1. if subsets[u].rank > subsets[v].rank then subsets[v].parent = u\n",
    "1. else if subsets[u].rank < subsets[v].rank then subsets[u].parent = v\n",
    "1. else subsets[v].parent = u, subsets[u].rank = subsets[u].rank + 1\n",
    "\n",
    "**Kruskals_SPT**\n",
    "\n",
    "1. sort all edges in the given graph and assign to sortedEdges\n",
    "1. no_of_edges = graph.no_of_vertices - 1\n",
    "1. initalize output as Graph\n",
    "1. subsets = [{parent: vertex,rank: 0} for vertex in graph.vertices]\n",
    "1. edge_index = 0\n",
    "1. while edge < no_of_edges\n",
    "1.    get FromVertex,ToVertex,Weight from sortedEdges[edge_index]\n",
    "1.    edge_index = edge_index + 1\n",
    "1.    FromVertexRoot = findRoot(subsets,FromVertex)\n",
    "1.    ToVertexRoot = findRoot(subsets,FromVertex)\n",
    "1.    if FromVertexRoot != ToVertexRoot #--- avoid cycle\n",
    "1.       edge = edge 1\n",
    "1.       add FromVertex,ToVertex,Weight edge to output.graph \n",
    "1.       union(FromVertex,ToVertex)"
   ]
  },
  {
   "cell_type": "code",
   "execution_count": 106,
   "metadata": {},
   "outputs": [
    {
     "name": "stdout",
     "output_type": "stream",
     "text": [
      "vertices: [0, 1, 2, 3, 4, 5, 6]\n",
      "\n",
      "-- Neighbours --\n",
      "\n",
      "0 -> 1  \n",
      "\n",
      "1 -> 2  3  \n",
      "\n",
      "2 -> 4  \n",
      "\n",
      "3 -> 4  6  \n",
      "\n",
      "4 -> 5  \n",
      "\n",
      "5 -> \n",
      "\n",
      "6 -> \n",
      "\n",
      "--- SPT ---\n",
      "\n",
      "vertices: [0, 1, 2, 3, 4, 5, 6]\n",
      "\n",
      "-- Neighbours --\n",
      "\n",
      "0 -> 1  \n",
      "\n",
      "1 -> 2  3  \n",
      "\n",
      "2 -> 4  \n",
      "\n",
      "3 -> 6  \n",
      "\n",
      "4 -> 5  \n",
      "\n",
      "5 -> \n",
      "\n",
      "6 -> \n",
      "\n"
     ]
    }
   ],
   "source": [
    "def findRoot(subsets,vertex):\n",
    "    if subsets[vertex]['parent'] != vertex:\n",
    "        subsets[vertex]['parent'] = findRoot(subsets,subsets[vertex]['parent'])\n",
    "    return subsets[vertex]['parent']\n",
    "\n",
    "def union(subsets,f,t):\n",
    "    if subsets[f]['rank'] > subsets[t]['rank']:\n",
    "        subsets[t]['parent'] = f\n",
    "    elif subsets[t]['rank'] > subsets[f]['rank']:\n",
    "        subsets[f]['parent'] = t\n",
    "    else:\n",
    "        subsets[t]['parent'] = f \n",
    "        subsets[f]['rank'] = subsets[f]['rank'] + 1\n",
    "\n",
    "def SPT(graph):\n",
    "    output = Graph(graph.Vertices)\n",
    "    edges=[]\n",
    "    for fromVertex,fromVertexEdges in enumerate(graph.adjacentList):\n",
    "        for edge in fromVertexEdges:\n",
    "            edges.append((fromVertex,edge['vertex'],edge['weight']))\n",
    "    \n",
    "    edges = sorted(edges, key=lambda edge: edge[2])\n",
    "    subsets = [{'parent': vertex, 'rank':0} for vertex in range(0,graph.Vertices)]\n",
    "    \n",
    "    no_of_edges = graph.Vertices - 1\n",
    "    edge_counter = 0\n",
    "    i = 0\n",
    "    while edge_counter < no_of_edges:\n",
    "        f,t,w = edges[i]\n",
    "        i = i + 1\n",
    "        f_root = findRoot(subsets,f)\n",
    "        t_root = findRoot(subsets,t)\n",
    "        \n",
    "        # avoid cycle - from vertex and to vertex has no common root\n",
    "        if f_root != t_root:\n",
    "            output.addEdge(f,t,w)\n",
    "            union(subsets,f,t)\n",
    "            edge_counter = edge_counter + 1\n",
    "    return output\n",
    "    \n",
    "graph = Graph(7)\n",
    "graph.addEdge(0,1,10)\n",
    "graph.addEdge(1,2,20)\n",
    "graph.addEdge(1,3,30)\n",
    "graph.addEdge(2,4,4) # remove this edge\n",
    "graph.addEdge(3,4,50)\n",
    "graph.addEdge(3,6,10)\n",
    "graph.addEdge(4,5,1)\n",
    "graph.print()\n",
    "print(\"--- SPT ---\\n\")\n",
    "spt=SPT(graph)\n",
    "spt.print()\n",
    "\n"
   ]
  },
  {
   "cell_type": "markdown",
   "metadata": {},
   "source": [
    "# Get Shortest Path using dijkstra with adjacent list"
   ]
  },
  {
   "cell_type": "code",
   "execution_count": null,
   "metadata": {},
   "outputs": [],
   "source": []
  },
  {
   "cell_type": "markdown",
   "metadata": {},
   "source": [
    "# Get Shortest Path with negative weights"
   ]
  },
  {
   "cell_type": "code",
   "execution_count": null,
   "metadata": {},
   "outputs": [],
   "source": []
  }
 ],
 "metadata": {
  "kernelspec": {
   "display_name": "Python 3.6",
   "language": "python",
   "name": "python3"
  },
  "language_info": {
   "codemirror_mode": {
    "name": "ipython",
    "version": 3
   },
   "file_extension": ".py",
   "mimetype": "text/x-python",
   "name": "python",
   "nbconvert_exporter": "python",
   "pygments_lexer": "ipython3",
   "version": "3.6.7"
  }
 },
 "nbformat": 4,
 "nbformat_minor": 2
}
