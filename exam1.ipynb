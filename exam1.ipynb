{
 "cells": [
  {
   "cell_type": "code",
   "execution_count": 4,
   "metadata": {},
   "outputs": [
    {
     "data": {
      "text/plain": [
       "<module 'sys' (built-in)>"
      ]
     },
     "execution_count": 4,
     "metadata": {},
     "output_type": "execute_result"
    }
   ],
   "source": [
    "import sys,importlib\n",
    "importlib.reload(sys)\n",
    "#sys.setdefaultencoding(\"utf-8\")"
   ]
  },
  {
   "cell_type": "markdown",
   "metadata": {},
   "source": [
    "### Write a program that takes two strings s1, s2 and returns longest common subsequence of s1 and s2. \n",
    "for example\n",
    "\n",
    "| string1 | string2 | output |\n",
    "| ------- | ------- | ------ |\n",
    "| ABAZDC | BACBAD | ABAD |\n",
    "| AGGTAB | GXTXAYB | GTAB |\n",
    "| aaaa | aa | aa |\n",
    "| \"\" | ... | |\n",
    "\n",
    ">1. strings are case sensitive\n",
    ">1. keep sequence order as in String 1\n",
    "\n",
    "```\n",
    "find_longest_sequence(sequences):\n",
    "    m = -1\n",
    "    n = len(sequences)\n",
    "    idx = 0\n",
    "    i = 0\n",
    "    while i < n:\n",
    "        if m < len(sequences[i])\n",
    "           m = len(sequences[i])\n",
    "           idx = i\n",
    "        i = i + 1\n",
    "    return sequences[idx]\n",
    "\n",
    "find_sub_sequence(s1,s2,startIdx)\n",
    "    n = len(s1)\n",
    "    i = startIdx\n",
    "    pos = 0\n",
    "    seq=[]\n",
    "    while i < n:\n",
    "        pos = s2.index(s1[i],pos)\n",
    "        if pos != -1 : # s1 char is found in s2\n",
    "            seq.append(s1[i])\n",
    "            i = i + 1\n",
    "        else:\n",
    "            return seq\n",
    "main:\n",
    "   n = len(s1)\n",
    "   results = []\n",
    "   while i < n:\n",
    "       results.append(s1,s2,i)\n",
    "       i = i + 1\n",
    "    print(results[find_longest_sequence(results)])\n",
    "   \n",
    "```"
   ]
  },
  {
   "cell_type": "code",
   "execution_count": 84,
   "metadata": {},
   "outputs": [
    {
     "name": "stdout",
     "output_type": "stream",
     "text": [
      "ABAD\n",
      "GTAB\n",
      "aa\n",
      "\n",
      "ABBA\n"
     ]
    }
   ],
   "source": [
    "def find_longest_sub_sequence(s1,s2,startIdx):\n",
    "    pos = 0\n",
    "    maxseq=[]\n",
    "    n = len(s1)\n",
    "    for j in range(n):\n",
    "        subseq=[]\n",
    "        pos = 0\n",
    "        i = 0\n",
    "        for i in range(j,n):\n",
    "            try:\n",
    "                pos = s2.index(s1[i],pos) + 1\n",
    "                subseq.append(s1[i])\n",
    "            except ValueError as e:\n",
    "                if len(maxseq) <= len(subseq):\n",
    "                    maxseq = subseq\n",
    "                pass\n",
    "        \n",
    "        if len(maxseq) <= len(subseq):\n",
    "            maxseq = subseq\n",
    "            \n",
    "    return \"\".join(maxseq)\n",
    "\n",
    "def main(s1,s2):\n",
    "    print(find_longest_sub_sequence(s1,s2,i))\n",
    "    \n",
    "main(\"ABAZDC\",\"BACBAD\")    \n",
    "main(\"AGGTAB\",\"GXTXAYB\")\n",
    "main(\"aaaa\",\"aa\")\n",
    "main(\"\",\"...\")\n",
    "main(\"ABBA\",\"ABCBA\")"
   ]
  },
  {
   "cell_type": "markdown",
   "metadata": {},
   "source": [
    "### Write a function to determine third smallest number in the given set\n",
    "\n",
    "| input | output |\n",
    "| --- | ----- |\n",
    "| ```[1,2,3,4,5,6]``` | ``` 3 ``` |\n",
    "\n",
    "* option 1: sort the given set and pick 3rd element\n",
    "* option 2: create min heap and pop 3 times to get 3rd element"
   ]
  },
  {
   "cell_type": "markdown",
   "metadata": {},
   "source": [
    "### Write a function that takes two strings as arguments s, p  and returns a boolean denoting s (String) matches p (Pattern). \n",
    "> Pattern can have\n",
    "> 1. a-z - matches all lower case chars\n",
    "> 1. . - matches any single char\n",
    "> 1. * - matches 0 or more occurences of the previous single charactor\n",
    "\n",
    "For example\n",
    "\n",
    "| string | pattern | output |\n",
    "| ----- | ----- | ---- |\n",
    "| aba | ``ab`` | false |\n",
    "| aaa | ``a*`` | true |\n",
    "| ab | ``.* ``| true |\n",
    "| ab | ``.`` | false |\n",
    "| aab | ``c*a*b`` | true |\n",
    "| aaa | `a.*` | true |"
   ]
  },
  {
   "cell_type": "markdown",
   "metadata": {},
   "source": [
    "**HDL**\n",
    "1. Identify matching pairs from the given pattern\n",
    "2. Loop through given string and identity start,end position of each pattern that fits sequentially otherwise raise error\n",
    "\n",
    "```\n",
    "def find_matching_pairs(pattern):\n",
    "    matching_pairs=[]\n",
    "    n = len(pattern)\n",
    "    i = 0\n",
    "    p = 0\n",
    "    for i in range(1,n):\n",
    "        # handle a*\n",
    "        if pattern[i] == '*':\n",
    "            matching_pairs[p][1]=0\n",
    "            matching_pairs[p][2]=MAX_NUMBER\n",
    "            matching_pairs[p][3]='c'\n",
    "        # handle a-z\n",
    "        elif pattern[i] == '-' or pattern[(i-1)] == '-':\n",
    "            matching_pairs[p][0]+=pattern[i]\n",
    "            matching_pairs[p][3]='r'\n",
    "        # handle ab\n",
    "        else:\n",
    "            matching_pairs.append([pattern[i],1,1,'c'])\n",
    "            p = p + 1\n",
    "     return matching_pairs\n",
    "     \n",
    "def find_matches(s,p,startIndex,stringLength):\n",
    "    pattern,minChars,maxChars,patternType,startPos,matchedChars=p\n",
    "    if maxChars > stringLength:\n",
    "        maxChars = stringLength\n",
    "    \n",
    "    i = startIndex\n",
    "    n = 0\n",
    "    \n",
    "    if patternType == 'r':\n",
    "        i = ord('a')\n",
    "        j = ord('z')+1\n",
    "        pattern=''.join([chr(k) for k in range(i,j)])\n",
    "    \n",
    "    startPos = -1\n",
    "    while i < stringLength and n < maxChars\n",
    "        try:\n",
    "           pos = pattern.index(s[i],i)\n",
    "           n = n + 1\n",
    "           if startPos == -1:\n",
    "               startPos = pos\n",
    "        except ValueError:\n",
    "            break\n",
    "    \n",
    "    return startPos, n\n",
    "    \n",
    "\n",
    "def match(s,p):\n",
    "    stringLength = len(s)\n",
    "    startIndex = 0\n",
    "    pairs = find_matching_pairs(p)\n",
    "    pairCount = len(pairs)\n",
    "    for p in range(pairCount):\n",
    "        patternStartPos,patternMatchedChars = find_matches(s,pairs[p],startIndex,stringLength)\n",
    "        pairs[p][4] = patternStartPos\n",
    "        pairs[p][5] = patternMatchedChars\n",
    "        if pairs[p][1] < patternMatchedChars or pairs[p][2] != patternMatchedChars:\n",
    "            return False\n",
    "        \n",
    "        \n",
    "```       \n",
    "        "
   ]
  },
  {
   "cell_type": "code",
   "execution_count": 65,
   "metadata": {},
   "outputs": [],
   "source": [
    "import sys,importlib\n",
    "importlib.reload(sys)\n",
    "\n",
    "def find_matching_pairs(pattern):\n",
    "    matching_pairs=[]\n",
    "    n = len(pattern)\n",
    "    i = 0\n",
    "    p = 0\n",
    "    matching_pairs.append([pattern[i],1,1,'c',-1,0])\n",
    "    for i in range(1,n):\n",
    "        # handle a*\n",
    "        if pattern[i] == '*':\n",
    "            matching_pairs[p][1]=0\n",
    "            matching_pairs[p][2]=float('inf')\n",
    "            if ((i-2) >= 1 and pattern[(i-2)] == '-') or ((i-1) >= 1 and pattern[(i-1)] == '.'):\n",
    "                pass\n",
    "            else:\n",
    "                matching_pairs[p][3]='c'\n",
    "        # handle a-z\n",
    "        elif pattern[i] == '-' or pattern[(i-1)] == '-':\n",
    "            matching_pairs[p][0]+=pattern[i]\n",
    "            matching_pairs[p][3]='r'\n",
    "        elif pattern[i] == '.':\n",
    "            matching_pairs.append([pattern[i],1,1,'a',-1,0])\n",
    "            p = p + 1\n",
    "        # handle ab\n",
    "        else:\n",
    "            matching_pairs.append([pattern[i],1,1,'c',-1,0])\n",
    "            p = p + 1\n",
    "    return matching_pairs\n",
    "\n",
    "def find_matches(s,p,startIndex,stringLength):\n",
    "    pattern,minChars,maxChars,patternType,startPos,matchedChars=p\n",
    "    i = startIndex\n",
    "    startPos = -1\n",
    "    if patternType == 'r':\n",
    "        a = ord(pattern[0])\n",
    "        z = ord(pattern[2])+1\n",
    "        pattern=''.join([chr(k) for k in range(a,z)])\n",
    "    \n",
    "    while i < stringLength and matchedChars < maxChars:\n",
    "        try:\n",
    "            if patternType == 'a':\n",
    "                matchedChars = matchedChars + 1\n",
    "            else:\n",
    "                pattern.index(s[i])\n",
    "                matchedChars = matchedChars + 1\n",
    "            if startPos == -1:\n",
    "                startPos = i\n",
    "        except ValueError:\n",
    "            break\n",
    "        \n",
    "        i = i + 1\n",
    "    \n",
    "    return startPos, matchedChars\n",
    "\n",
    "def match(s,p):\n",
    "    stringLength = len(s)\n",
    "    startIndex = 0\n",
    "    pairs = find_matching_pairs(p)\n",
    "    pairCount = len(pairs)\n",
    "    matchedChars = 0\n",
    "    for p in range(pairCount):\n",
    "        patternStartPos,patternMatchedChars = find_matches(s,pairs[p],startIndex,stringLength)\n",
    "        pairs[p][4] = patternStartPos\n",
    "        pairs[p][5] = patternMatchedChars\n",
    "        if pairs[p][1] <= patternMatchedChars and patternMatchedChars <=pairs[p][2]:\n",
    "            startIndex = patternStartPos + patternMatchedChars\n",
    "            matchedChars = patternMatchedChars + matchedChars\n",
    "        else:\n",
    "            return False,pairs\n",
    "        \n",
    "    return (matchedChars == stringLength),pairs\n",
    "\n",
    "result,pairs=match('ccabb','c*abb')\n",
    "assert result == True,\"Results should be True\"\n",
    "\n",
    "result,pairs=match('ccabb','cc*abb')\n",
    "assert result == True,\"Results should be True\"\n",
    "\n",
    "result,pairs=match('ceabb','cc*abb')\n",
    "assert result != True,\"Results should be False\"\n",
    "\n",
    "result,pairs=match('ceabbA1','a-e*A-Z.*')\n",
    "assert result == True,\"Results should be False\"\n"
   ]
  },
  {
   "cell_type": "markdown",
   "metadata": {},
   "source": [
    "### Write a function to compare two string (case-insensitive) without using string functions"
   ]
  },
  {
   "cell_type": "code",
   "execution_count": 51,
   "metadata": {},
   "outputs": [
    {
     "name": "stdout",
     "output_type": "stream",
     "text": [
      "1\n",
      "True True\n",
      "a\n"
     ]
    }
   ],
   "source": [
    "print('ab'.index('b',1))\n",
    "print(0 >= 0, 1 <= float('inf'))\n",
    "\n",
    "print('a-z'[0])"
   ]
  },
  {
   "cell_type": "markdown",
   "metadata": {},
   "source": [
    "### Write a function which takes meetings and return maximum possiblity meeting can be attended - [details](https://www.youtube.com/watch?v=Q5_2BCej9hg)"
   ]
  },
  {
   "cell_type": "code",
   "execution_count": 108,
   "metadata": {},
   "outputs": [
    {
     "name": "stdout",
     "output_type": "stream",
     "text": [
      "['a', 'b', 'c', 'd', 'e', 'f', 'g', 'h', 'i', 'j', 'k', 'l', 'm', 'n', 'o', 'p', 'q', 'r', 's', 't', 'u', 'v', 'w', 'x', 'y', 'z']\n"
     ]
    }
   ],
   "source": [
    "i = ord('a')\n",
    "j = ord('z')+1\n",
    "print([chr(k) for k in range(i,j)])"
   ]
  },
  {
   "cell_type": "code",
   "execution_count": null,
   "metadata": {},
   "outputs": [],
   "source": []
  }
 ],
 "metadata": {
  "kernelspec": {
   "display_name": "Python 3.6",
   "language": "python",
   "name": "python3"
  },
  "language_info": {
   "codemirror_mode": {
    "name": "ipython",
    "version": 3
   },
   "file_extension": ".py",
   "mimetype": "text/x-python",
   "name": "python",
   "nbconvert_exporter": "python",
   "pygments_lexer": "ipython3",
   "version": "3.6.7"
  }
 },
 "nbformat": 4,
 "nbformat_minor": 2
}
