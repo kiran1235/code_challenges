{
 "cells": [
  {
   "cell_type": "code",
   "execution_count": 47,
   "metadata": {},
   "outputs": [
    {
     "name": "stdout",
     "output_type": "stream",
     "text": [
      "[1, 2, 3, 6, 10]\n"
     ]
    }
   ],
   "source": [
    "#merge sort technique uses Divide and Conquer method to sort given list of items in an array\n",
    "#1. divide array equally until only 2 elements in the array\n",
    "#2. call function recursively for left array\n",
    "#3. call function recursively for right array\n",
    "#4. sort and merge left, right arrays\n",
    "\n",
    "\n",
    "def MergeSort(array):\n",
    "    if len(array) > 1:\n",
    "        mid = int(len(array)/2)\n",
    "        left = array[:mid]\n",
    "        right = array[mid:]\n",
    "        MergeSort(left)\n",
    "        MergeSort(right)\n",
    "        \n",
    "        i=0\n",
    "        j=0\n",
    "        k=0\n",
    "        \n",
    "        # print(\"before\",array,left,right)\n",
    "        # sort left and right array\n",
    "        while i < len(left) and j < len(right):\n",
    "            if left[i] < right[j]:\n",
    "                array[k] = left[i]\n",
    "                i = i + 1\n",
    "            else:\n",
    "                array[k] = right[j]\n",
    "                j = j + 1\n",
    "            k = k + 1\n",
    "        \n",
    "        # merge \n",
    "        while i < len(left):\n",
    "            array[k] = left[i]\n",
    "            k = k + 1\n",
    "            i = i + 1\n",
    "\n",
    "        while j < len(right):\n",
    "            array[k] = right[j]\n",
    "            k = k + 1\n",
    "            j = j + 1\n",
    "        # print(\"after\",array,left,right)\n",
    "    return array\n",
    "\n",
    "print(MergeSort([6,3,2,10,1]))"
   ]
  },
  {
   "cell_type": "code",
   "execution_count": 59,
   "metadata": {},
   "outputs": [
    {
     "name": "stdout",
     "output_type": "stream",
     "text": [
      "[1, 2, 3, 6, 10]\n"
     ]
    }
   ],
   "source": [
    "# Quick Sort\n",
    "# Places pivot item from the given array in its correct position by placing all smaller elements on left partitions and bigger elements on right partitions\n",
    "# pivot item can be picked different ways such as always first, always last, middle, random\n",
    "\n",
    "class QuickSort:\n",
    "    def __init__(self,array):\n",
    "        self.array = array\n",
    "        self.length=len(array)\n",
    "    \n",
    "    def __partition(self,low,high):\n",
    "        i = low - 1\n",
    "        \n",
    "        pivot = self.array[high] # always pick last element\n",
    "        for j in range(low,high):\n",
    "            if self.array[j] <= pivot:\n",
    "                i = i + 1\n",
    "                self.array[i],self.array[j] = self.array[j],self.array[i]\n",
    "        \n",
    "        # place pivot element in the right place\n",
    "        self.array[i+1],self.array[high]=self.array[high],self.array[i+1]\n",
    "\n",
    "        return i + 1\n",
    "    \n",
    "    def __sort(self,low,high):\n",
    "        if low < high:\n",
    "            pos = self.__partition(low,high)\n",
    "            self.__sort(low,pos-1)\n",
    "            self.__sort(pos+1,high)\n",
    "    \n",
    "    def apply(self):\n",
    "        self.__sort(0,self.length-1)\n",
    "        return self.array\n",
    "\n",
    "print(QuickSort([6,3,2,10,1]).apply()) \n"
   ]
  },
  {
   "cell_type": "code",
   "execution_count": 52,
   "metadata": {},
   "outputs": [
    {
     "name": "stdout",
     "output_type": "stream",
     "text": [
      "0\n",
      "1\n",
      "2\n",
      "3\n",
      "4\n"
     ]
    }
   ],
   "source": [
    "for j in range(0,5):\n",
    "    print(j)"
   ]
  },
  {
   "cell_type": "code",
   "execution_count": null,
   "metadata": {},
   "outputs": [],
   "source": []
  }
 ],
 "metadata": {
  "kernelspec": {
   "display_name": "Python 3.6",
   "language": "python",
   "name": "python3"
  },
  "language_info": {
   "codemirror_mode": {
    "name": "ipython",
    "version": 3
   },
   "file_extension": ".py",
   "mimetype": "text/x-python",
   "name": "python",
   "nbconvert_exporter": "python",
   "pygments_lexer": "ipython3",
   "version": "3.6.7"
  }
 },
 "nbformat": 4,
 "nbformat_minor": 2
}
