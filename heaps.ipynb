{
 "cells": [
  {
   "cell_type": "markdown",
   "metadata": {},
   "source": [
    "# Heap\n",
    ">In Python, it is available using “heapq” module\n",
    ">1. **heapify(iterable)** - This function is used to convert the iterable into a heap data structure. i.e. in heap order.\n",
    ">1. **heappush(heap, ele)** - This function is used to insert the element mentioned in its arguments into heap. The order is adjusted, so as heap structure is maintained.\n",
    ">1. **heappop(heap)** - This function is used to remove and return the smallest element from heap. The order is adjusted, so as heap structure is maintained.\n",
    ">1. **heappushpop(heap, ele)** - This function combines the functioning of both push and pop operations in one statement, increasing efficiency. Heap order is maintained after this operation.\n",
    ">1. **heapreplace(heap, ele)** - This function also inserts and pops element in one statement, but it is different from above function. In this, element is first popped, then element is pushed.i.e, the value larger than the pushed value can be returned.\n",
    ">1. **nlargest(k, iterable, key = fun)** - This function is used to return the k largest elements from the iterable specified and satisfying the key if mentioned.\n",
    ">1. **nsmallest(k, iterable, key = fun)** - This function is used to return the k smallest elements from the iterable specified and satisfying the key if mentioned.\n",
    ">1. **merge(arr,arr)** - this function to merge two arrays\n"
   ]
  },
  {
   "cell_type": "code",
   "execution_count": 22,
   "metadata": {},
   "outputs": [
    {
     "name": "stdout",
     "output_type": "stream",
     "text": [
      "Given array: [5, 7, 9, 1, 3]\n",
      "Created Heap as: [1, 3, 9, 7, 5]\n",
      "Modified Heap as: [1, 3, 2, 7, 5, 9]\n",
      "Modified Heap as: [2, 3, 9, 7, 5] and popped item is 1\n",
      "Modified Heap as: [3, 5, 9, 7] and popped item is 2\n",
      "Modified Heap as: [5, 7, 9, 8] and popped item is 3\n",
      "Modified Heap as: [2, 7, 9, 8] and popped item is 5\n",
      "Modified Heap as: [1, 7, 9, 8] and popped item is 2\n",
      "Modified Heap as: [6, 7, 9, 8] and popped item is 1\n",
      "Modified Heap as: [6, 7, 9, 8] and 3 maximum items are [9, 8, 7]\n",
      "Modified Heap as: [6, 7, 9, 8] and 3 min items are [6, 7, 8]\n",
      "Array 1: [6, 7, 9, 8] Merged with Array 2: [5, 10, 15, 20, 25] And Modified Heap as: [5, 6, 7, 9, 8, 10, 15, 20, 25]\n"
     ]
    }
   ],
   "source": [
    "import heapq\n",
    "li = [5, 7, 9, 1, 3] \n",
    "print(\"Given array:\",li)\n",
    "\n",
    "# create heap from given array\n",
    "heapq.heapify(li)\n",
    "print(\"Created Heap as:\",list(li))\n",
    "\n",
    "# push element to heap\n",
    "heapq.heappush(li, 2)\n",
    "print(\"Modified Heap as:\",list(li))\n",
    "\n",
    "# pop element to heap --> returns min item\n",
    "ele=heapq.heappop(li)\n",
    "print(\"Modified Heap as:\",list(li),\"and popped item is\",ele)\n",
    "\n",
    "# pop element to heap --> returns min item\n",
    "ele=heapq.heappop(li)\n",
    "print(\"Modified Heap as:\",list(li),\"and popped item is\",ele)\n",
    "\n",
    "# push and pop element to heap --> returns min item\n",
    "ele=heapq.heappushpop(li,8)\n",
    "print(\"Modified Heap as:\",list(li),\"and popped item is\",ele)\n",
    "\n",
    "# push an element but pop value that is 1st max of pushed item\n",
    "ele=heapq.heapreplace(li,2)\n",
    "print(\"Modified Heap as:\",list(li),\"and popped item is\",ele)\n",
    "\n",
    "ele=heapq.heapreplace(li,1)\n",
    "print(\"Modified Heap as:\",list(li),\"and popped item is\",ele)\n",
    "\n",
    "ele=heapq.heapreplace(li,6)\n",
    "print(\"Modified Heap as:\",list(li),\"and popped item is\",ele)\n",
    "\n",
    "#get 3 maximum number from the list\n",
    "m=heapq.nlargest(3, li)\n",
    "print(\"Modified Heap as:\",list(li),\"and 3 maximum items are\",m)\n",
    "\n",
    "#get 3 mini number from the list\n",
    "m=heapq.nsmallest(3, li)\n",
    "print(\"Modified Heap as:\",list(li),\"and 3 min items are\",m)\n",
    "\n",
    "li2=[5,10,15,20,25]\n",
    "li3=heapq.merge(li,li2)\n",
    "print(\"Array 1:\",list(li),\"Merged with Array 2:\",list(li2),\"And Modified Heap as:\",list(li3))\n"
   ]
  },
  {
   "cell_type": "code",
   "execution_count": 27,
   "metadata": {},
   "outputs": [
    {
     "name": "stdout",
     "output_type": "stream",
     "text": [
      "Given array: [5, 6, 7, 9, 8, 1, 15, 2, 3]\n",
      "Sorted array: [1, 2, 3, 5, 6, 7, 8, 9, 15]\n"
     ]
    }
   ],
   "source": [
    "### Heap sort\n",
    "\n",
    "import heapq\n",
    "def heapsort(arr):\n",
    "    out = []\n",
    "    for v in arr:\n",
    "        heapq.heappush(out,v)\n",
    "    return [heapq.heappop(out) for v in arr]\n",
    "\n",
    "arr = [5, 6, 7, 9, 8, 1, 15, 2, 3]\n",
    "print(\"Given array:\",arr)\n",
    "print(\"Sorted array:\",list(heapsort(arr)))\n"
   ]
  },
  {
   "cell_type": "markdown",
   "metadata": {},
   "source": [
    "### Binary Heap \n",
    ">A Binary Heap is a Binary Tree with following properties.\n",
    ">1. It’s a complete tree (All levels are completely filled except possibly the last level and the last level has all keys as left as possible). This property of Binary Heap makes them suitable to be stored in an array.\n",
    ">1. **A Binary Heap is either Min Heap or Max Heap**. \n",
    ">  1. In a Min Binary Heap, the key at root must be minimum among all keys present in Binary Heap. The same property must be recursively true for all nodes in Binary Tree. \n",
    ">  1. Max Binary Heap is similar to MinHeap.\n",
    ">1. A Binary Heap is a Complete Binary Tree. A binary heap is typically represented as an array.\n",
    "\n",
    "\n",
    "| Array | description |\n",
    "| ----- | ----- |\n",
    "| Arr[0] | root element | \n",
    "| Arr[(i-1)/2] | Returns the parent node |\n",
    "| Arr[(2*i)+1] | Returns the left child node |\n",
    "| Arr[(2*i)+2] | Returns the right child node |\n",
    "\n",
    "The traversal method use to achieve Array representation is Level Order\n",
    "\n",
    "Operations :\n",
    "1. get(): It returns the root element of Min Heap. Time Complexity of this operation is O(1).\n",
    "1. pop(): Removes the minimum element from MinHeap. Time Complexity of this Operation is O(Logn) as this operation needs to maintain the heap property (by calling heapify()) after removing root.\n",
    "1. update(): Update value of key. The time complexity of this operation is O(Logn). If the new value of a node is greater than the parent of the node, then we don’t need to do anything. Otherwise, we need to traverse up to fix the violated heap property.\n",
    "1. insert(): Inserting a new key takes O(Logn) time. We add a new key at the end of the tree. IF new key is greater than its parent, then we don’t need to do anything. Otherwise, we need to traverse up to fix the violated heap property.\n",
    "1. remove(): Deleting a key also takes O(Logn) time. We replace the key to be deleted with minum infinite by calling update(). After update(), the minus infinite value must reach root, so we call pop() to remove the key.\n",
    "\n"
   ]
  },
  {
   "cell_type": "markdown",
   "metadata": {},
   "source": [
    "### Min Heap implementation\n",
    "> parent node must be minimum among all children nodes in the heap in all levels"
   ]
  },
  {
   "cell_type": "code",
   "execution_count": 41,
   "metadata": {},
   "outputs": [
    {
     "name": "stdout",
     "output_type": "stream",
     "text": [
      "2\n",
      "4\n",
      "1\n"
     ]
    }
   ],
   "source": [
    "import heapq\n",
    "\n",
    "class MinHeap:\n",
    "    def __init__(self):\n",
    "        self.heap=[]\n",
    "         \n",
    "    # in min. heap, parent node can be accessed at (index-1)/2\n",
    "    def parentIndex(self,index):\n",
    "        return int((index-1)/2)\n",
    "    \n",
    "    def insert(self,value):\n",
    "        heapq.heappush(self.heap,value)\n",
    "        \n",
    "    def removeKey(self,index):\n",
    "        self.updateKey(index,float(\"-inf\"))\n",
    "        self.pop()\n",
    "        \n",
    "    def updateKey(self,index,value):\n",
    "        self.heap[index] = value\n",
    "        while index !=0 and self.heap[self.parentIndex(index)] > self.heap[index]:\n",
    "            self.heap[index],self.heap[self.parentIndex(index)] = (self.heap[self.parentIndex(index)],self.heap[index])\n",
    "            \n",
    "        \n",
    "    def pop(self):\n",
    "        return heapq.heappop(self.heap)\n",
    "        \n",
    "    def get(self):\n",
    "        return self.heap[0]\n",
    "    \n",
    "    def print(self):\n",
    "        print(self.heap)\n",
    "\n",
    "h = MinHeap()\n",
    "h.insert(3)\n",
    "h.insert(2)\n",
    "h.removeKey(1)\n",
    "\n",
    "h.insert(15)\n",
    "h.insert(5)\n",
    "h.insert(4)\n",
    "h.insert(45)\n",
    "\n",
    "print(h.pop())\n",
    "print(h.get())\n",
    "h.updateKey(2,1)\n",
    "print(h.get())\n"
   ]
  },
  {
   "cell_type": "markdown",
   "metadata": {},
   "source": [
    "### Max Heap implementation\n",
    "> parent node must be maximum among all children nodes in the heap in all levels"
   ]
  },
  {
   "cell_type": "code",
   "execution_count": 82,
   "metadata": {},
   "outputs": [
    {
     "name": "stdout",
     "output_type": "stream",
     "text": [
      "P: 84 L: 22 R: 19\n",
      "P: 22 L: 19 R: 17\n",
      "P: 19 L: 10 R: 5\n",
      "P: 17 L: 6 R: 3\n"
     ]
    }
   ],
   "source": [
    "class MaxHeap:\n",
    "    def __init__(self):\n",
    "        self.heap=[]\n",
    "    \n",
    "    def print(self):\n",
    "        n = int(len(self.heap)/2)\n",
    "        \n",
    "        for i in range(1,n):\n",
    "            print(\"P:\",self.heap[i],\"L:\",self.heap[self.leftIndex(i)],\"R:\",self.heap[self.rightIndex(i)])\n",
    "    \n",
    "    def parentIndex(self,index):\n",
    "        return int((index-1)/2)\n",
    "    \n",
    "    def leftIndex(self,index):\n",
    "        return 2*index\n",
    "\n",
    "    def rightIndex(self,index):\n",
    "        return (2*index)+1\n",
    "\n",
    "    def isLeaf(self,index):\n",
    "        n = len(self.heap) \n",
    "        return (index >= int(n/2) and index <= n) \n",
    "    \n",
    "    def heapify(self,index):\n",
    "        if self.isLeaf(index):\n",
    "            return\n",
    "\n",
    "        if self.heap[index] < self.heap[self.leftIndex(index)] or self.heap[index] < self.heap[self.rightIndex(index)]:\n",
    "            if self.heap[self.leftIndex(index)] > self.heap[self.rightIndex(index)]:\n",
    "                self.heap[index],self.heap[self.leftIndex(index)]=(self.heap[self.leftIndex(index)],self.heap[index])\n",
    "                self.heapify(self.leftIndex(index))\n",
    "            else:\n",
    "                self.heap[index],self.heap[self.rightIndex(index)]=(self.heap[self.rightIndex(index)],self.heap[index])\n",
    "                self.heapify(self.rightIndex(index))\n",
    "                \n",
    "        \n",
    "    def pop(self):\n",
    "        self.heap.pop(0)\n",
    "        self.heapify(0)\n",
    "        \n",
    "    def insert(self,value):\n",
    "        self.heap.append(value)\n",
    "        current = len(self.heap) - 1\n",
    "        while self.heap[current] > self.heap[self.parentIndex(current)]:\n",
    "            self.heap[current],self.heap[self.parentIndex(current)]=(self.heap[self.parentIndex(current)],self.heap[current])\n",
    "            current = self.parentIndex(current)\n",
    "\n",
    "    def update(self,index,value):\n",
    "        self.heap[index]=value\n",
    "        self.heapify(index)\n",
    "\n",
    "    def remove(self,index):\n",
    "        self.heap[index]=float('inf')\n",
    "        self.heapify(0)\n",
    "        self.pop()\n",
    "        \n",
    "\n",
    "        \n",
    "h = MaxHeap()\n",
    "h.insert(5)\n",
    "h.insert(3)\n",
    "h.insert(17)    \n",
    "h.insert(10)\n",
    "h.insert(84)\n",
    "h.insert(19)\n",
    "h.insert(6)\n",
    "h.insert(22)\n",
    "h.insert(9)\n",
    "h.print()\n"
   ]
  },
  {
   "cell_type": "code",
   "execution_count": null,
   "metadata": {},
   "outputs": [],
   "source": []
  }
 ],
 "metadata": {
  "kernelspec": {
   "display_name": "Python 3.6",
   "language": "python",
   "name": "python3"
  },
  "language_info": {
   "codemirror_mode": {
    "name": "ipython",
    "version": 3
   },
   "file_extension": ".py",
   "mimetype": "text/x-python",
   "name": "python",
   "nbconvert_exporter": "python",
   "pygments_lexer": "ipython3",
   "version": "3.6.7"
  }
 },
 "nbformat": 4,
 "nbformat_minor": 2
}
